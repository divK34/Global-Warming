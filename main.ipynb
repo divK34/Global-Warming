{
 "cells": [
  {
   "cell_type": "code",
   "execution_count": 1,
   "id": "5d2084fb-e297-48e6-ab10-07e07ca13d9c",
   "metadata": {
    "tags": []
   },
   "outputs": [],
   "source": [
    "import pandas as pd\n",
    "import datetime\n",
    "\n",
    "from bokeh.models import BasicTicker, PrintfTickFormatter, NumeralTickFormatter\n",
    "from bokeh.plotting import figure, show, output_file\n",
    "\n",
    "from bokeh.transform import linear_cmap\n",
    "from bokeh.palettes import Turbo256\n",
    "\n",
    "from math import pi\n",
    "\n",
    "from pycountry_convert import country_alpha2_to_continent_code, country_name_to_country_alpha2\n",
    "\n",
    "def data_cleaning(df_path):\n",
    "    \n",
    "    # assigned data type datetime to the column dt(date)\n",
    "    df = pd.read_csv(df_path)\n",
    "    df['dt'] = pd.to_datetime(df['dt'])\n",
    "    # removing NaN values and resetting the index from 0\n",
    "    df1 = df.dropna(inplace=False)\n",
    "    df1.reset_index(drop=True, inplace=True)\n",
    "\n",
    "    # replacing the symbols to string\n",
    "    #df1.replace({'Åland':'Åland Islands'}, regex=True) - gave warning for inplace\n",
    "    df1.loc[df1['Country'] == 'Åland', 'Country'] = 'Åland Islands'\n",
    "    \n",
    "    return df1\n",
    "\n",
    "df1 = data_cleaning(\"data/GlobalLandTemperaturesByCountry.csv\")"
   ]
  },
  {
   "cell_type": "code",
   "execution_count": 2,
   "id": "ba631520-8e96-498d-bfc7-5643f1ab1064",
   "metadata": {
    "tags": []
   },
   "outputs": [],
   "source": [
    "continents = {\n",
    "    'NA': 'North America',\n",
    "    'SA': 'South America',\n",
    "    'AS': 'Asia',\n",
    "    'OC': 'Australia',\n",
    "    'AF': 'Africa',\n",
    "    'EU': 'Europe'\n",
    "}\n",
    "\n",
    "def get_continent(country_name):\n",
    "    try:\n",
    "        alpha2 = country_name_to_country_alpha2(country_name)\n",
    "        continent_code = country_alpha2_to_continent_code(alpha2)\n",
    "        continent_name = continents.get(continent_code, 'Unknown')\n",
    "        return continent_name\n",
    "    except KeyError:\n",
    "        return 'Invalid'\n",
    "\n",
    "df1['Continent'] = df1['Country'].apply(get_continent)\n",
    "df1 = df1[df1['Continent'] != 'Invalid']"
   ]
  },
  {
   "cell_type": "code",
   "execution_count": 3,
   "id": "ad0c1292-88d1-412c-9517-40e715e55515",
   "metadata": {
    "tags": []
   },
   "outputs": [],
   "source": [
    "df1 = df1.assign(Year = df1['dt'].dt.year)\n",
    "df1 = df1.reindex(columns=['Year','dt','Continent','Country','AverageTemperature'])\n",
    "df1 = df1.drop(columns=['dt','Country'], inplace=False, axis=1)"
   ]
  },
  {
   "cell_type": "code",
   "execution_count": 4,
   "id": "b61791d0-ddde-4244-a46e-9f7ee1e52564",
   "metadata": {
    "tags": []
   },
   "outputs": [],
   "source": [
    "df1['Year'] = df1['Year'].astype(str)"
   ]
  },
  {
   "cell_type": "code",
   "execution_count": 5,
   "id": "8c718c7c-ce57-44a6-ab55-ba3f5a443323",
   "metadata": {
    "tags": []
   },
   "outputs": [],
   "source": [
    "df1 = df1.pivot_table(index='Year', columns='Continent', values='AverageTemperature') \n",
    "df1 = df1.dropna()\n",
    "df1 = df1.round(2)"
   ]
  },
  {
   "cell_type": "code",
   "execution_count": 6,
   "id": "bf8f4c36-6c88-4bfa-959d-32facbb354db",
   "metadata": {
    "tags": []
   },
   "outputs": [],
   "source": [
    "years = list(df1.index)\n",
    "continents = list(df1.columns)\n",
    "data = pd.DataFrame(df1.stack(), columns=['Temp']).reset_index()\n",
    "\n",
    "# Tools and colors\n",
    "colors = Turbo256\n",
    "TOOLS = \"hover,save,pan,box_zoom,reset,wheel_zoom\""
   ]
  },
  {
   "cell_type": "code",
   "execution_count": 7,
   "id": "dbdc03f6-5bdf-4c7b-a40e-775daf77d1ee",
   "metadata": {
    "tags": []
   },
   "outputs": [],
   "source": [
    "p = figure(title=f\"Continental Land Temperature for the years ({years[0]} to {years[-1]})\",\n",
    "           x_range=years, y_range=continents,\n",
    "           x_axis_location=\"above\", width=1100, height=500,\n",
    "           sizing_mode=\"stretch_width\",\n",
    "           tools=TOOLS, toolbar_location='below',\n",
    "           tooltips=[('Year', '@Year'), ('Temp', '@Temp°C')])\n",
    "\n",
    "p.grid.grid_line_color = None\n",
    "p.axis.axis_line_color = None\n",
    "p.axis.major_tick_line_color = None\n",
    "p.yaxis.major_label_text_font_size = \"10px\"\n",
    "p.xaxis.major_label_text_font_size = \"8px\"\n",
    "p.axis.major_label_standoff = 0\n",
    "p.axis.major_label_text_color = \"#000000\"\n",
    "p.xaxis.major_label_orientation = pi/3\n",
    "\n",
    "r = p.rect(x=\"Year\", y=\"Continent\", width=1, height=1, source=data,\n",
    "           fill_color=linear_cmap('Temp', colors, low=data.Temp.min(), high=data.Temp.max()),\n",
    "           line_color=None)\n",
    "\n",
    "p.add_layout(r.construct_color_bar(\n",
    "    major_label_text_font_size=\"8px\",\n",
    "    major_label_text_color=\"#000000\",\n",
    "    ticker=BasicTicker(desired_num_ticks=len(colors)),\n",
    "    formatter=PrintfTickFormatter(format=\"%.2f°C\"),\n",
    "    label_standoff=6,\n",
    "    border_line_color=None,\n",
    "    padding=5,\n",
    "), 'right')"
   ]
  },
  {
   "cell_type": "code",
   "execution_count": 8,
   "id": "3edf32a4-0e95-43f8-9d3e-6b8b8f84b453",
   "metadata": {},
   "outputs": [],
   "source": [
    "#output_file(\"main.html\")"
   ]
  },
  {
   "cell_type": "code",
   "execution_count": 9,
   "id": "4318eed3-749c-4121-8a74-1c106bbf7408",
   "metadata": {
    "tags": []
   },
   "outputs": [],
   "source": [
    "show(p)"
   ]
  },
  {
   "cell_type": "code",
   "execution_count": null,
   "id": "174453ff-c9a1-43de-b730-45b7139e92be",
   "metadata": {},
   "outputs": [],
   "source": []
  }
 ],
 "metadata": {
  "kernelspec": {
   "display_name": "Python 3 (ipykernel)",
   "language": "python",
   "name": "python3"
  },
  "language_info": {
   "codemirror_mode": {
    "name": "ipython",
    "version": 3
   },
   "file_extension": ".py",
   "mimetype": "text/x-python",
   "name": "python",
   "nbconvert_exporter": "python",
   "pygments_lexer": "ipython3",
   "version": "3.11.4"
  }
 },
 "nbformat": 4,
 "nbformat_minor": 5
}
